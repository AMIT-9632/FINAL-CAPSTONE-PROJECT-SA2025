{
  "nbformat": 4,
  "nbformat_minor": 0,
  "metadata": {
    "colab": {
      "provenance": []
    },
    "kernelspec": {
      "name": "python3",
      "display_name": "Python 3"
    },
    "language_info": {
      "name": "python"
    }
  },
  "cells": [
    {
      "cell_type": "markdown",
      "source": [
        "Installing pathway"
      ],
      "metadata": {
        "id": "L5xHQuLhdHjB"
      }
    },
    {
      "cell_type": "code",
      "execution_count": null,
      "metadata": {
        "id": "29TgJ_GCF7Vy"
      },
      "outputs": [],
      "source": [
        "!pip install pathway bokeh --quiet"
      ]
    },
    {
      "cell_type": "markdown",
      "source": [
        "Importing libraries"
      ],
      "metadata": {
        "id": "xThwpJa7dLAT"
      }
    },
    {
      "cell_type": "code",
      "source": [
        "import numpy as np\n",
        "import pandas as pd\n",
        "import matplotlib.pyplot as plt\n",
        "import datetime\n",
        "from datetime import datetime\n",
        "import pathway as pw\n",
        "import bokeh.plotting\n",
        "import panel as pn"
      ],
      "metadata": {
        "id": "-HiQWXcZGJLP"
      },
      "execution_count": null,
      "outputs": []
    },
    {
      "cell_type": "code",
      "source": [
        "df = pd.read_csv('/content/Modified - modified.csv')\n",
        "df"
      ],
      "metadata": {
        "id": "ICASLIUTGUsk"
      },
      "execution_count": null,
      "outputs": []
    },
    {
      "cell_type": "code",
      "source": [
        "# Combine the 'LastUpdatedDate' and 'LastUpdatedTime' columns into a single datetime column\n",
        "df['Timestamp'] = pd.to_datetime(df['LastUpdatedDate'] + ' ' + df['LastUpdatedTime'],\n",
        "                                  format='%d-%m-%Y %H:%M:%S')\n",
        "\n",
        "# Sort the DataFrame by the new 'Timestamp' column and reset the index\n",
        "df = df.sort_values('Timestamp').reset_index(drop=True)"
      ],
      "metadata": {
        "id": "bhpDTxB9Jo4q"
      },
      "execution_count": null,
      "outputs": []
    },
    {
      "cell_type": "code",
      "source": [
        "# Save the selected columns to a CSV file for streaming or downstream processing\n",
        "df[[\"Timestamp\", \"Occupancy\", \"Capacity\"]].to_csv(\"parking_stream.csv\", index=False)\n",
        "\n",
        "# Note: Only three features are used here for simplicity.\n",
        "# Participants are expected to incorporate additional relevant features in their models."
      ],
      "metadata": {
        "id": "33EFs6_JJtLV"
      },
      "execution_count": null,
      "outputs": []
    },
    {
      "cell_type": "code",
      "source": [
        "# Define the schema for the streaming data using Pathway\n",
        "# This schema specifies the expected structure of each data row in the stream\n",
        "\n",
        "class ParkingSchema(pw.Schema):\n",
        "    Timestamp: str   # Timestamp of the observation (should ideally be in ISO format)\n",
        "    Occupancy: int   # Number of occupied parking spots\n",
        "    Capacity: int    # Total parking capacity at the location\n"
      ],
      "metadata": {
        "id": "1TYFtEYeJ9mA"
      },
      "execution_count": null,
      "outputs": []
    },
    {
      "cell_type": "code",
      "source": [
        "# Load the data as a simulated stream using Pathway's replay_csv function\n",
        "# This replays the CSV data at a controlled input rate to mimic real-time streaming\n",
        "# input_rate=1000 means approximately 1000 rows per second will be ingested into the stream.\n",
        "\n",
        "data = pw.demo.replay_csv(\"parking_stream.csv\", schema=ParkingSchema, input_rate=1000)"
      ],
      "metadata": {
        "id": "SSH0vXFwJzJt"
      },
      "execution_count": null,
      "outputs": []
    },
    {
      "cell_type": "code",
      "source": [
        "# Define the datetime format to parse the 'Timestamp' column\n",
        "fmt = \"%Y-%m-%d %H:%M:%S\"\n",
        "\n",
        "# Add new columns to the data stream:\n",
        "# - 't' contains the parsed full datetime\n",
        "# - 'day' extracts the date part and resets the time to midnight (useful for day-level aggregations)\n",
        "data_with_time = data.with_columns(\n",
        "    t = data.Timestamp.dt.strptime(fmt),\n",
        "    day = data.Timestamp.dt.strptime(fmt).dt.strftime(\"%Y-%m-%dT00:00:00\")\n",
        ")"
      ],
      "metadata": {
        "id": "Xlvft_3HKCzH"
      },
      "execution_count": null,
      "outputs": []
    },
    {
      "cell_type": "markdown",
      "source": [
        "MODEL 1"
      ],
      "metadata": {
        "id": "aWMBw6udTwtW"
      }
    },
    {
      "cell_type": "code",
      "source": [
        "import datetime\n",
        "\n",
        "# Define a daily tumbling window over the data stream using Pathway\n",
        "# This block performs temporal aggregation and computes a dynamic price for each day\n",
        "\n",
        "BASE_PRICE = 10.0\n",
        "ALPHA = 2.0  # Controls price sensitivity to occupancy\n",
        "\n",
        "delta_window_model1 = (\n",
        "    data_with_time.windowby(\n",
        "        pw.this.t,  # Event time column to use for windowing (parsed datetime)\n",
        "        instance=pw.this.day,  # Logical partitioning key: one instance per calendar day\n",
        "        window=pw.temporal.tumbling(datetime.timedelta(days=1)),  # Fixed-size daily window\n",
        "        behavior=pw.temporal.exactly_once_behavior()  # Guarantees exactly-once processing semantics\n",
        "    )\n",
        "    .reduce(\n",
        "        t=pw.this._pw_window_end,                        # Assign the end timestamp of each window\n",
        "        occ_sum=pw.reducers.sum(pw.this.Occupancy),      # Sum of occupancy over the window\n",
        "        cap_sum=pw.reducers.sum(pw.this.Capacity),       # Sum of capacity over the window\n",
        "        count=pw.reducers.count(),                       # Number of records in the window\n",
        "    )\n",
        "    .with_columns(\n",
        "        # Compute average occupancy rate for the day\n",
        "        avg_occupancy_rate = (pw.this.occ_sum / pw.this.cap_sum),\n",
        "    )\n",
        "    .with_columns(\n",
        "\n",
        "        # Model 1 Pricing Formula (daily average):\n",
        "        #   price = BASE_PRICE + ALPHA * avg_occupancy_rate\n",
        "        price_model1 = BASE_PRICE + ALPHA * pw.this.avg_occupancy_rate\n",
        "    )\n",
        ")\n"
      ],
      "metadata": {
        "id": "BXX5vWyUQ5mW"
      },
      "execution_count": null,
      "outputs": []
    },
    {
      "cell_type": "code",
      "source": [
        "# Activate the Panel extension to enable interactive visualizations\n",
        "pn.extension()\n",
        "\n",
        "# Define a custom Bokeh plotting function for Model 1 (tumbling window)\n",
        "def price_plotter_model1(source):\n",
        "    # Create a Bokeh figure with datetime x-axis\n",
        "    fig = bokeh.plotting.figure(\n",
        "        height=400,\n",
        "        width=800,\n",
        "        title=\"Pathway: Model 1 Daily Parking Price (Tumbling Window)\",\n",
        "        x_axis_type=\"datetime\",\n",
        "    )\n",
        "    # Plot a line graph showing how the Model 1 price evolves over time\n",
        "    fig.line(\"t\", \"price_model1\", source=source, line_width=2, color=\"navy\", legend_label=\"Model 1 Price\")\n",
        "\n",
        "    # Overlay red circles at each data point for better visibility\n",
        "    fig.circle(\"t\", \"price_model1\", source=source, size=6, color=\"red\")\n",
        "\n",
        "    fig.legend.location = \"top_left\"\n",
        "    fig.xaxis.axis_label = \"Date\"\n",
        "    fig.yaxis.axis_label = \"Price ($)\"\n",
        "    return fig\n",
        "\n",
        "# Use Pathway's built-in .plot() method to bind the data stream (delta_window_model1) to the Bokeh plot\n",
        "# - 'price_plotter_model1' is the rendering function\n",
        "# - 'sorting_col=\"t\"' ensures the data is plotted in time order\n",
        "viz = delta_window_model1.plot(price_plotter_model1, sorting_col=\"t\")\n",
        "\n",
        "# Create a Panel layout and make it servable as a web app\n",
        "pn.Column(viz).servable()\n"
      ],
      "metadata": {
        "id": "LiJrav9HRGB8"
      },
      "execution_count": null,
      "outputs": []
    },
    {
      "cell_type": "code",
      "source": [
        "\n",
        "pw.run()"
      ],
      "metadata": {
        "id": "QgFLB7aBRUIl"
      },
      "execution_count": null,
      "outputs": []
    },
    {
      "cell_type": "markdown",
      "source": [
        "MODEL 2"
      ],
      "metadata": {
        "id": "MGRRacXJTz6P"
      }
    },
    {
      "cell_type": "code",
      "source": [
        "df = pd.read_csv('/content/Modified - modified.csv')\n",
        "df"
      ],
      "metadata": {
        "id": "H5MdTrd9VSeH"
      },
      "execution_count": null,
      "outputs": []
    },
    {
      "cell_type": "code",
      "source": [
        "df['Timestamp'] = pd.to_datetime(\n",
        "    df['LastUpdatedDate'] + ' ' + df['LastUpdatedTime'],\n",
        "    format='%d-%m-%Y %H:%M:%S'\n",
        ")\n",
        "df = df.sort_values('Timestamp').reset_index(drop=True)"
      ],
      "metadata": {
        "id": "cn_4F29LVUPR"
      },
      "execution_count": null,
      "outputs": []
    },
    {
      "cell_type": "code",
      "source": [
        "# Save all relevant columns for Model 2\n",
        "df[[\n",
        "    \"Timestamp\",\n",
        "    \"Occupancy\",\n",
        "    \"Capacity\",\n",
        "    \"QueueLength\",\n",
        "    \"TrafficConditionNearby\",\n",
        "    \"IsSpecialDay\",\n",
        "    \"VehicleType\"\n",
        "]].to_csv(\"parking_stream_model2.csv\", index=False)"
      ],
      "metadata": {
        "id": "rD7VmwkzWDny"
      },
      "execution_count": null,
      "outputs": []
    },
    {
      "cell_type": "code",
      "source": [
        "class ParkingSchemaModel2(pw.Schema):\n",
        "    Timestamp: str\n",
        "    Occupancy: int\n",
        "    Capacity: int\n",
        "    QueueLength: int\n",
        "    TrafficConditionNearby: str\n",
        "    IsSpecialDay: int\n",
        "    VehicleType: str"
      ],
      "metadata": {
        "id": "N6xvV_RxWE-T"
      },
      "execution_count": null,
      "outputs": []
    },
    {
      "cell_type": "code",
      "source": [
        "data = pw.demo.replay_csv(\n",
        "    \"parking_stream_model2.csv\",\n",
        "    schema=ParkingSchemaModel2,\n",
        "    input_rate=1000\n",
        ")"
      ],
      "metadata": {
        "id": "5N-0SAXNWHpl"
      },
      "execution_count": null,
      "outputs": []
    },
    {
      "cell_type": "code",
      "source": [
        "fmt = \"%Y-%m-%d %H:%M:%S\"\n",
        "\n",
        "data_with_time = data.with_columns(\n",
        "    t = data.Timestamp.dt.strptime(fmt),\n",
        "    day = data.Timestamp.dt.strptime(fmt).dt.strftime(\"%Y-%m-%dT00:00:00\")\n",
        ")"
      ],
      "metadata": {
        "id": "HBscqcY8WKi6"
      },
      "execution_count": null,
      "outputs": []
    },
    {
      "cell_type": "code",
      "source": [
        "import datetime\n",
        "import pathway as pw\n",
        "\n",
        "# --- Feature Mapping Dictionaries and Functions ---\n",
        "traffic_map = {'low': 0, 'average': 1, 'high': 2}\n",
        "vehicle_type_weight = {'car': 1.0, 'bike': 0.7, 'truck': 1.3, 'cycle': 0.5}\n",
        "\n",
        "def map_traffic(val):\n",
        "    return float(traffic_map.get(val, 1))\n",
        "\n",
        "def map_vehicle(val):\n",
        "    return float(vehicle_type_weight.get(val, 1.0))\n",
        "\n",
        "def clip_price(val):\n",
        "    lower = BASE_PRICE * 0.5\n",
        "    upper = BASE_PRICE * 2.0\n",
        "    return max(lower, min(val, upper))\n",
        "\n",
        "\n",
        "# --- Map Categorical Features to Numeric ---\n",
        "data_with_features = data_with_time.with_columns(\n",
        "    TrafficLevelNum = pw.apply_with_type(map_traffic, float, data_with_time.TrafficConditionNearby),\n",
        "    VehicleTypeWeight = pw.apply_with_type(map_vehicle, float, data_with_time.VehicleType)\n",
        ")\n",
        "\n",
        "# --- Demand Function Coefficients ---\n",
        "ALPHA = 1.0\n",
        "BETA = 0.2\n",
        "GAMMA = 0.3\n",
        "DELTA = 0.5\n",
        "EPSILON = 0.5\n",
        "LAMBDA = 0.5\n",
        "BASE_PRICE = 10.0\n",
        "\n",
        "# --- Daily Tumbling Window and Aggregation ---\n",
        "delta_window_model2 = (\n",
        "    data_with_features.windowby(\n",
        "        pw.this.t,\n",
        "        instance=pw.this.day,\n",
        "        window=pw.temporal.tumbling(datetime.timedelta(days=1)),\n",
        "        behavior=pw.temporal.exactly_once_behavior()\n",
        "    )\n",
        "    .reduce(\n",
        "        t=pw.this._pw_window_end,\n",
        "        occ_sum=pw.reducers.sum(pw.this.Occupancy),\n",
        "        cap_sum=pw.reducers.sum(pw.this.Capacity),\n",
        "        queue_sum=pw.reducers.sum(pw.this.QueueLength),\n",
        "        traffic_sum=pw.reducers.sum(pw.this.TrafficLevelNum),\n",
        "        special_sum=pw.reducers.sum(pw.this.IsSpecialDay),\n",
        "        vehicle_sum=pw.reducers.sum(pw.this.VehicleTypeWeight),\n",
        "        count=pw.reducers.count(),\n",
        "    )\n",
        "    .with_columns(\n",
        "        avg_occupancy_rate = pw.this.occ_sum / pw.this.cap_sum,\n",
        "        avg_queue = pw.this.queue_sum / pw.this.count,\n",
        "        avg_traffic = pw.this.traffic_sum / pw.this.count,\n",
        "        avg_special = pw.this.special_sum / pw.this.count,\n",
        "        avg_vehicle = pw.this.vehicle_sum / pw.this.count,\n",
        "    )\n",
        "    .with_columns(\n",
        "        raw_demand = (\n",
        "            ALPHA * pw.this.avg_occupancy_rate +\n",
        "            BETA * pw.this.avg_queue -\n",
        "            GAMMA * pw.this.avg_traffic +\n",
        "            DELTA * pw.this.avg_special +\n",
        "            EPSILON * pw.this.avg_vehicle\n",
        "        )\n",
        "    )\n",
        ")\n",
        "\n",
        "# --- Compute Global Min/Max of Raw Demand (single-row table) ---\n",
        "demand_stats = delta_window_model2.reduce(\n",
        "    min_demand = pw.reducers.min(pw.this.raw_demand),\n",
        "    max_demand = pw.reducers.max(pw.this.raw_demand)\n",
        ")\n",
        "\n",
        "# --- Use ix_ref() to Broadcast Min/Max to All Rows ---\n",
        "delta_window_model2 = delta_window_model2.with_columns(\n",
        "    min_demand = demand_stats.ix_ref().min_demand,\n",
        "    max_demand = demand_stats.ix_ref().max_demand\n",
        ")\n",
        "\n",
        "# --- Normalize Demand ---\n",
        "delta_window_model2 = delta_window_model2.with_columns(\n",
        "    normalized_demand = (pw.this.raw_demand - pw.this.min_demand) / (pw.this.max_demand - pw.this.min_demand + 1e-6)\n",
        ")\n",
        "\n",
        "# --- Compute and Clip Price ---\n",
        "delta_window_model2 = delta_window_model2.with_columns(\n",
        "    price_model2 = pw.apply_with_type(\n",
        "        clip_price, float,\n",
        "        BASE_PRICE * (1 + LAMBDA * pw.this.normalized_demand)\n",
        "    )\n",
        ")"
      ],
      "metadata": {
        "id": "bfCD0m8xbUR2"
      },
      "execution_count": null,
      "outputs": []
    },
    {
      "cell_type": "code",
      "source": [
        "# Activate the Panel extension to enable interactive visualizations\n",
        "pn.extension()\n",
        "\n",
        "# Define a custom Bokeh plotting function for Model 2 (Demand-Based Price Function)\n",
        "def price_plotter_model2(source):\n",
        "    fig = bokeh.plotting.figure(\n",
        "        height=400,\n",
        "        width=800,\n",
        "        title=\"Pathway: Model 2 Daily Parking Price\",\n",
        "        x_axis_type=\"datetime\",\n",
        "    )\n",
        "    # Plot a line graph showing how the Model 2 price evolves over time\n",
        "    fig.line(\"t\", \"price_model2\", source=source, line_width=2, color=\"navy\", legend_label=\"Model 2 Price\")\n",
        "    # Overlay red circles at each data point for better visibility\n",
        "    fig.circle(\"t\", \"price_model2\", source=source, size=6, color=\"red\")\n",
        "    fig.legend.location = \"top_left\"\n",
        "    fig.xaxis.axis_label = \"Date\"\n",
        "    fig.yaxis.axis_label = \"Price ($)\"\n",
        "    return fig\n",
        "\n",
        "# Use Pathway's built-in .plot() method to bind the data stream (delta_window_model2) to the Bokeh plot\n",
        "# - 'price_plotter_model2' is the rendering function\n",
        "# - 'sorting_col=\"t\"' ensures the data is plotted in time order\n",
        "viz = delta_window_model2.plot(price_plotter_model2, sorting_col=\"t\")\n",
        "\n",
        "# Create a Panel layout and make it servable as a web app\n",
        "pn.Column(viz).servable()\n"
      ],
      "metadata": {
        "id": "-Roj6m7dcxuO"
      },
      "execution_count": null,
      "outputs": []
    },
    {
      "cell_type": "code",
      "source": [
        "pw.run()"
      ],
      "metadata": {
        "id": "6g1vZgFTc16y"
      },
      "execution_count": null,
      "outputs": []
    }
  ]
}